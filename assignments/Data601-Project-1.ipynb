{
 "cells": [
  {
   "cell_type": "markdown",
   "metadata": {},
   "source": [
    "# Overview \n",
    "\n",
    "In this homework you will put the concepts and techniques you learned in the first 10 weeks of the course to use. You will get data from a Python API or with web scraping or you can some other sources. Then create a regression or classification model to the dataset.\n",
    "\n",
    "# Deadlines:\n",
    "\n",
    "1. Ask any dataset-related questions by COB (Close of Business) October 15 (Week-8).\n",
    "\n",
    "2. Submit the completed deliverables at the beginning of class on October 29th (Week-10) at 4:30 PM.\n",
    "\n",
    "# Deliverables\n",
    "\n",
    "For this project there will be two deliverables:\n",
    "\n",
    "1. A Github repo that contains your project.\n",
    "\n",
    "2. A Jupyter Notebook (I will refer to it as `technical notebook` or `report`).\n",
    "\n",
    "## Github Guidelines\n",
    "\n",
    "- Put an attention grabbing title to the repo.\n",
    "\n",
    "- Github should include a license. \n",
    "\n",
    "- ReadMe should be included. \n",
    "\n",
    "- ReadMe should include these sections:\n",
    "\n",
    "    - Overview\n",
    "    - Goals\n",
    "    - Motivation & Background\n",
    "    - Data\n",
    "    - Table of Content\n",
    "    - Packages and Software\n",
    "    \n",
    "## Report Guidelines\n",
    "\n",
    "This will a jupyter notebook and it will be uploaded to your github repo.\n",
    "\n",
    "Should include the following the following:\n",
    "\n",
    "- Abstract & Summary of the report\n",
    "\n",
    "- Research Questions\n",
    "\n",
    "- Methodology & Logic\n",
    "\n",
    "- Conclusions & Interpretations"
   ]
  }
 ],
 "metadata": {
  "kernelspec": {
   "display_name": "Python 3",
   "language": "python",
   "name": "python3"
  },
  "language_info": {
   "codemirror_mode": {
    "name": "ipython",
    "version": 3
   },
   "file_extension": ".py",
   "mimetype": "text/x-python",
   "name": "python",
   "nbconvert_exporter": "python",
   "pygments_lexer": "ipython3",
   "version": "3.8.3"
  },
  "toc": {
   "base_numbering": 1,
   "nav_menu": {},
   "number_sections": true,
   "sideBar": true,
   "skip_h1_title": false,
   "title_cell": "Table of Contents",
   "title_sidebar": "Contents",
   "toc_cell": false,
   "toc_position": {},
   "toc_section_display": true,
   "toc_window_display": false
  }
 },
 "nbformat": 4,
 "nbformat_minor": 4
}
